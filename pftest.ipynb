{
 "cells": [
  {
   "cell_type": "code",
   "execution_count": 1,
   "metadata": {},
   "outputs": [],
   "source": [
    "from io import BytesIO\n",
    "import pycurl,timeit"
   ]
  },
  {
   "cell_type": "markdown",
   "metadata": {},
   "source": [
    "# Performance with proxy"
   ]
  },
  {
   "cell_type": "code",
   "execution_count": 2,
   "metadata": {},
   "outputs": [],
   "source": [
    "def proxy_latency(prox_type,host,port,target):\n",
    "    buffer = BytesIO()\n",
    "    c = pycurl.Curl()\n",
    "    c.setopt(pycurl.PROXY, f\"{host}:{port}\")\n",
    "    c.setopt(pycurl.URL, target)\n",
    "    c.setopt(c.WRITEDATA, buffer)\n",
    "    ts = timeit.default_timer()\n",
    "    c.perform()\n",
    "    \n",
    "    m = {}\n",
    "    m['prox_type'] = prox_type\n",
    "    m['target'] = target\n",
    "    m['total-time'] = c.getinfo(pycurl.TOTAL_TIME)\n",
    "    m['namelookup-time'] = c.getinfo(pycurl.NAMELOOKUP_TIME)\n",
    "    m['connect-time'] = c.getinfo(pycurl.CONNECT_TIME)\n",
    "    m['pretransfer-time'] = c.getinfo(pycurl.PRETRANSFER_TIME)\n",
    "    m['starttransfer-time'] = c.getinfo(pycurl.STARTTRANSFER_TIME)\n",
    "    \n",
    "    c.close()\n",
    "    \n",
    "    return m\n"
   ]
  },
  {
   "cell_type": "markdown",
   "metadata": {},
   "source": [
    "# Performance without proxy"
   ]
  },
  {
   "cell_type": "code",
   "execution_count": 3,
   "metadata": {},
   "outputs": [],
   "source": [
    "def normal_latency(host,port,target):\n",
    "    buffer = BytesIO()\n",
    "    c = pycurl.Curl()\n",
    "    c.setopt(pycurl.URL, target)\n",
    "    c.setopt(c.WRITEDATA, buffer)\n",
    "    ts = timeit.default_timer()\n",
    "    c.perform()\n",
    "    \n",
    "    m = {}\n",
    "    m['prox_type'] = \"N/A\"\n",
    "    m['target'] = target\n",
    "    m['total-time'] = c.getinfo(pycurl.TOTAL_TIME)\n",
    "    m['namelookup-time'] = c.getinfo(pycurl.NAMELOOKUP_TIME)\n",
    "    m['connect-time'] = c.getinfo(pycurl.CONNECT_TIME)\n",
    "    m['pretransfer-time'] = c.getinfo(pycurl.PRETRANSFER_TIME)\n",
    "    m['starttransfer-time'] = c.getinfo(pycurl.STARTTRANSFER_TIME)\n",
    "    \n",
    "    c.close()\n",
    "    \n",
    "    return m"
   ]
  },
  {
   "cell_type": "markdown",
   "metadata": {},
   "source": [
    "# Setup"
   ]
  },
  {
   "cell_type": "code",
   "execution_count": 4,
   "metadata": {},
   "outputs": [],
   "source": [
    "host = \"130.64.148.78\"\n",
    "port = \"8080\"\n",
    "range_k = 100\n",
    "# large 33.7M\n",
    "# target = \"https://www.nasa.gov/sites/default/files/atoms/files/earth_book_2019_tagged.pdf\" \n",
    "\n",
    "\n",
    "\n",
    "# target = \"https://www.reddit.com/\"\n",
    "\n",
    "target = \"http://www.cs.cmu.edu/~prs/bio.html\"\n",
    "\n",
    "\n",
    "# target = \"http://www.cs.tufts.edu/comp/112/\""
   ]
  },
  {
   "cell_type": "markdown",
   "metadata": {},
   "source": [
    "# Without proxy"
   ]
  },
  {
   "cell_type": "markdown",
   "metadata": {},
   "source": [
    "## 1. One time"
   ]
  },
  {
   "cell_type": "code",
   "execution_count": 7,
   "metadata": {},
   "outputs": [
    {
     "data": {
      "text/plain": [
       "{'prox_type': 'N/A',\n",
       " 'target': 'http://www.cs.cmu.edu/~prs/bio.html',\n",
       " 'total-time': 0.131903,\n",
       " 'namelookup-time': 0.070106,\n",
       " 'connect-time': 0.087818,\n",
       " 'pretransfer-time': 0.087899,\n",
       " 'starttransfer-time': 0.113424}"
      ]
     },
     "execution_count": 7,
     "metadata": {},
     "output_type": "execute_result"
    }
   ],
   "source": [
    "normal_latency(host,port,target)"
   ]
  },
  {
   "cell_type": "markdown",
   "metadata": {},
   "source": [
    "## 2. Average time (100 request)"
   ]
  },
  {
   "cell_type": "code",
   "execution_count": 8,
   "metadata": {},
   "outputs": [
    {
     "data": {
      "text/plain": [
       "0.09055613999999997"
      ]
     },
     "execution_count": 8,
     "metadata": {},
     "output_type": "execute_result"
    }
   ],
   "source": [
    "total = 0\n",
    "\n",
    "for n in range(range_k):\n",
    "    result = normal_latency(host,port,target)\n",
    "    total+= result[\"total-time\"]\n",
    "    \n",
    "total/range_k"
   ]
  },
  {
   "cell_type": "markdown",
   "metadata": {},
   "source": [
    "# Our project - select + pthread"
   ]
  },
  {
   "cell_type": "code",
   "execution_count": 125,
   "metadata": {},
   "outputs": [],
   "source": [
    "prox_type = \"select\""
   ]
  },
  {
   "cell_type": "markdown",
   "metadata": {},
   "source": [
    "## 1. One time without cache"
   ]
  },
  {
   "cell_type": "code",
   "execution_count": 126,
   "metadata": {
    "scrolled": true
   },
   "outputs": [
    {
     "data": {
      "text/plain": [
       "{'prox_type': 'select',\n",
       " 'target': 'http://www.cs.cmu.edu/~prs/bio.html',\n",
       " 'total-time': 0.077313,\n",
       " 'namelookup-time': 2.7e-05,\n",
       " 'connect-time': 8.6e-05,\n",
       " 'pretransfer-time': 0.00011,\n",
       " 'starttransfer-time': 0.077256}"
      ]
     },
     "execution_count": 126,
     "metadata": {},
     "output_type": "execute_result"
    }
   ],
   "source": [
    "proxy_latency(prox_type,host,port,target)"
   ]
  },
  {
   "cell_type": "markdown",
   "metadata": {},
   "source": [
    "## 2. Average time with cache"
   ]
  },
  {
   "cell_type": "code",
   "execution_count": 131,
   "metadata": {},
   "outputs": [
    {
     "data": {
      "text/plain": [
       "0.0005657999999999999"
      ]
     },
     "execution_count": 131,
     "metadata": {},
     "output_type": "execute_result"
    }
   ],
   "source": [
    "total = 0\n",
    "\n",
    "for n in range(range_k):\n",
    "    result = proxy_latency(prox_type,host,port,target)\n",
    "    total+= result[\"total-time\"]\n",
    "    \n",
    "total/range_k"
   ]
  },
  {
   "cell_type": "markdown",
   "metadata": {},
   "source": [
    "# Fully fork version - without cache"
   ]
  },
  {
   "cell_type": "code",
   "execution_count": 132,
   "metadata": {},
   "outputs": [],
   "source": [
    "prox_type = \"fork\"\n"
   ]
  },
  {
   "cell_type": "code",
   "execution_count": 133,
   "metadata": {},
   "outputs": [
    {
     "data": {
      "text/plain": [
       "0.07034185000000004"
      ]
     },
     "execution_count": 133,
     "metadata": {},
     "output_type": "execute_result"
    }
   ],
   "source": [
    "total = 0\n",
    "\n",
    "for n in range(range_k):\n",
    "    result = proxy_latency(prox_type,host,port,target)\n",
    "    total+= result[\"total-time\"]\n",
    "    \n",
    "total/range_k"
   ]
  },
  {
   "cell_type": "markdown",
   "metadata": {},
   "source": [
    "# Fully pthread version - without cache"
   ]
  },
  {
   "cell_type": "code",
   "execution_count": 134,
   "metadata": {},
   "outputs": [],
   "source": [
    "prox_type = \"pthread\""
   ]
  },
  {
   "cell_type": "code",
   "execution_count": 135,
   "metadata": {
    "scrolled": false
   },
   "outputs": [
    {
     "data": {
      "text/plain": [
       "0.11215383000000007"
      ]
     },
     "execution_count": 135,
     "metadata": {},
     "output_type": "execute_result"
    }
   ],
   "source": [
    "total = 0\n",
    "\n",
    "for n in range(range_k):\n",
    "    result = proxy_latency(prox_type,host,port,target)\n",
    "    total+= result[\"total-time\"]\n",
    "    \n",
    "total/range_k"
   ]
  },
  {
   "cell_type": "code",
   "execution_count": 128,
   "metadata": {},
   "outputs": [
    {
     "data": {
      "text/plain": [
       "0.08502607000000002"
      ]
     },
     "execution_count": 128,
     "metadata": {},
     "output_type": "execute_result"
    }
   ],
   "source": []
  },
  {
   "cell_type": "code",
   "execution_count": null,
   "metadata": {},
   "outputs": [],
   "source": []
  }
 ],
 "metadata": {
  "kernelspec": {
   "display_name": "Python 3",
   "language": "python",
   "name": "python3"
  },
  "language_info": {
   "codemirror_mode": {
    "name": "ipython",
    "version": 3
   },
   "file_extension": ".py",
   "mimetype": "text/x-python",
   "name": "python",
   "nbconvert_exporter": "python",
   "pygments_lexer": "ipython3",
   "version": "3.8.5"
  }
 },
 "nbformat": 4,
 "nbformat_minor": 4
}
