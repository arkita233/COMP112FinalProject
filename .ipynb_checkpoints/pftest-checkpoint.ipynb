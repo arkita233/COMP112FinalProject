{
 "cells": [
  {
   "cell_type": "code",
   "execution_count": 89,
   "metadata": {},
   "outputs": [],
   "source": [
    "from io import BytesIO\n",
    "import pycurl,timeit"
   ]
  },
  {
   "cell_type": "code",
   "execution_count": 90,
   "metadata": {},
   "outputs": [],
   "source": [
    "def proxy_latency(prox_type,host,port,target):\n",
    "    buffer = BytesIO()\n",
    "    c = pycurl.Curl()\n",
    "    c.setopt(pycurl.PROXY, f\"{host}:{port}\")\n",
    "    c.setopt(pycurl.URL, target)\n",
    "    c.setopt(c.WRITEDATA, buffer)\n",
    "    ts = timeit.default_timer()\n",
    "    c.perform()\n",
    "    \n",
    "    m = {}\n",
    "    m['prox_type'] = prox_type\n",
    "    m['target'] = target\n",
    "    m['total-time'] = c.getinfo(pycurl.TOTAL_TIME)\n",
    "    m['namelookup-time'] = c.getinfo(pycurl.NAMELOOKUP_TIME)\n",
    "    m['connect-time'] = c.getinfo(pycurl.CONNECT_TIME)\n",
    "    m['pretransfer-time'] = c.getinfo(pycurl.PRETRANSFER_TIME)\n",
    "    m['starttransfer-time'] = c.getinfo(pycurl.STARTTRANSFER_TIME)\n",
    "    \n",
    "    c.close()\n",
    "    \n",
    "    return m\n"
   ]
  },
  {
   "cell_type": "code",
   "execution_count": 91,
   "metadata": {},
   "outputs": [],
   "source": [
    "def normal_latency(host,port,target):\n",
    "    buffer = BytesIO()\n",
    "    c = pycurl.Curl()\n",
    "    c.setopt(pycurl.URL, target)\n",
    "    c.setopt(c.WRITEDATA, buffer)\n",
    "    ts = timeit.default_timer()\n",
    "    c.perform()\n",
    "    \n",
    "    m = {}\n",
    "    m['prox_type'] = \"N/A\"\n",
    "    m['target'] = target\n",
    "    m['total-time'] = c.getinfo(pycurl.TOTAL_TIME)\n",
    "    m['namelookup-time'] = c.getinfo(pycurl.NAMELOOKUP_TIME)\n",
    "    m['connect-time'] = c.getinfo(pycurl.CONNECT_TIME)\n",
    "    m['pretransfer-time'] = c.getinfo(pycurl.PRETRANSFER_TIME)\n",
    "    m['starttransfer-time'] = c.getinfo(pycurl.STARTTRANSFER_TIME)\n",
    "    \n",
    "    c.close()\n",
    "    \n",
    "    return m"
   ]
  },
  {
   "cell_type": "code",
   "execution_count": 92,
   "metadata": {},
   "outputs": [],
   "source": [
    "host = \"130.64.148.78\"\n",
    "port = \"8080\"\n",
    "range_k = 10\n",
    "# large 33.7M\n",
    "# target = \"https://www.nasa.gov/sites/default/files/atoms/files/earth_book_2019_tagged.pdf\" \n",
    "\n",
    "\n",
    "\n",
    "# target = \"https://www.reddit.com/\"\n",
    "\n",
    "# target = \"http://www.cs.cmu.edu/~prs/bio.html\"\n",
    "\n",
    "#2.8m\n",
    "target = \"http://www.cs.cmu.edu/~dga/dga-headshot.jpg\""
   ]
  },
  {
   "cell_type": "code",
   "execution_count": 93,
   "metadata": {},
   "outputs": [],
   "source": [
    "prox_type = \"select\""
   ]
  },
  {
   "cell_type": "code",
   "execution_count": 94,
   "metadata": {},
   "outputs": [
    {
     "data": {
      "text/plain": [
       "{'prox_type': 'select',\n",
       " 'target': 'http://www.cs.cmu.edu/~prs/bio.html',\n",
       " 'total-time': 0.078018,\n",
       " 'namelookup-time': 2.8e-05,\n",
       " 'connect-time': 9.3e-05,\n",
       " 'pretransfer-time': 0.00012,\n",
       " 'starttransfer-time': 0.077972}"
      ]
     },
     "execution_count": 94,
     "metadata": {},
     "output_type": "execute_result"
    }
   ],
   "source": [
    "proxy_latency(prox_type,host,port,target)"
   ]
  },
  {
   "cell_type": "code",
   "execution_count": 95,
   "metadata": {},
   "outputs": [
    {
     "data": {
      "text/plain": [
       "0.06843004"
      ]
     },
     "execution_count": 95,
     "metadata": {},
     "output_type": "execute_result"
    }
   ],
   "source": [
    "total = 0\n",
    "\n",
    "for n in range(range_k):\n",
    "    result = proxy_latency(prox_type,host,port,target)\n",
    "    total+= result[\"total-time\"]\n",
    "    \n",
    "total/range_k"
   ]
  },
  {
   "cell_type": "code",
   "execution_count": 96,
   "metadata": {},
   "outputs": [],
   "source": [
    "prox_type = \"fork\"\n"
   ]
  },
  {
   "cell_type": "code",
   "execution_count": 97,
   "metadata": {},
   "outputs": [
    {
     "data": {
      "text/plain": [
       "0.06971602000000003"
      ]
     },
     "execution_count": 97,
     "metadata": {},
     "output_type": "execute_result"
    }
   ],
   "source": [
    "total = 0\n",
    "\n",
    "for n in range(range_k):\n",
    "    result = proxy_latency(prox_type,host,port,target)\n",
    "    total+= result[\"total-time\"]\n",
    "    \n",
    "total/range_k"
   ]
  },
  {
   "cell_type": "code",
   "execution_count": null,
   "metadata": {},
   "outputs": [],
   "source": []
  },
  {
   "cell_type": "code",
   "execution_count": 104,
   "metadata": {},
   "outputs": [],
   "source": [
    "prox_type = \"pthread\""
   ]
  },
  {
   "cell_type": "code",
   "execution_count": 105,
   "metadata": {
    "scrolled": false
   },
   "outputs": [
    {
     "data": {
      "text/plain": [
       "0.11464204000000003"
      ]
     },
     "execution_count": 105,
     "metadata": {},
     "output_type": "execute_result"
    }
   ],
   "source": [
    "total = 0\n",
    "\n",
    "for n in range(range_k):\n",
    "    result = proxy_latency(prox_type,host,port,target)\n",
    "    total+= result[\"total-time\"]\n",
    "    \n",
    "total/range_k"
   ]
  },
  {
   "cell_type": "code",
   "execution_count": 106,
   "metadata": {},
   "outputs": [
    {
     "data": {
      "text/plain": [
       "0.06975742"
      ]
     },
     "execution_count": 106,
     "metadata": {},
     "output_type": "execute_result"
    }
   ],
   "source": [
    "total = 0\n",
    "\n",
    "for n in range(range_k):\n",
    "    result = normal_latency(host,port,target)\n",
    "    total+= result[\"total-time\"]\n",
    "    \n",
    "total/range_k"
   ]
  },
  {
   "cell_type": "code",
   "execution_count": null,
   "metadata": {},
   "outputs": [],
   "source": []
  }
 ],
 "metadata": {
  "kernelspec": {
   "display_name": "Python 3",
   "language": "python",
   "name": "python3"
  },
  "language_info": {
   "codemirror_mode": {
    "name": "ipython",
    "version": 3
   },
   "file_extension": ".py",
   "mimetype": "text/x-python",
   "name": "python",
   "nbconvert_exporter": "python",
   "pygments_lexer": "ipython3",
   "version": "3.8.5"
  }
 },
 "nbformat": 4,
 "nbformat_minor": 4
}
