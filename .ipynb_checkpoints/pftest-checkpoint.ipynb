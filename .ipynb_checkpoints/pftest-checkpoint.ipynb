{
 "cells": [
  {
   "cell_type": "code",
   "execution_count": 1,
   "metadata": {},
   "outputs": [],
   "source": [
    "from io import BytesIO\n",
    "import pycurl,timeit\n",
    "from multiprocessing import Process\n",
    "from multiprocessing import Manager"
   ]
  },
  {
   "cell_type": "markdown",
   "metadata": {},
   "source": [
    "# Performance with proxy"
   ]
  },
  {
   "cell_type": "code",
   "execution_count": 2,
   "metadata": {},
   "outputs": [],
   "source": [
    "def proxy_latency(prox_type,host,port,target,return_list):\n",
    "    buffer = BytesIO()\n",
    "    c = pycurl.Curl()\n",
    "    c.setopt(pycurl.PROXY, f\"{host}:{port}\")\n",
    "    c.setopt(pycurl.URL, target)\n",
    "    c.setopt(c.WRITEDATA, buffer)\n",
    "    ts = timeit.default_timer()\n",
    "    c.perform()\n",
    "    \n",
    "    m = {}\n",
    "    m['prox_type'] = prox_type\n",
    "    m['target'] = target\n",
    "    m['total-time'] = c.getinfo(pycurl.TOTAL_TIME)\n",
    "    m['namelookup-time'] = c.getinfo(pycurl.NAMELOOKUP_TIME)\n",
    "    m['connect-time'] = c.getinfo(pycurl.CONNECT_TIME)\n",
    "    m['pretransfer-time'] = c.getinfo(pycurl.PRETRANSFER_TIME)\n",
    "    m['starttransfer-time'] = c.getinfo(pycurl.STARTTRANSFER_TIME)\n",
    "    \n",
    "    return_list.append(m)\n",
    "    \n",
    "    c.close()\n",
    "    \n",
    "    return m\n"
   ]
  },
  {
   "cell_type": "markdown",
   "metadata": {},
   "source": [
    "# Performance without proxy"
   ]
  },
  {
   "cell_type": "code",
   "execution_count": 3,
   "metadata": {},
   "outputs": [],
   "source": [
    "def normal_latency(port,target,return_list):\n",
    "    buffer = BytesIO()\n",
    "    c = pycurl.Curl()\n",
    "    c.setopt(pycurl.URL, target)\n",
    "    c.setopt(c.WRITEDATA, buffer)\n",
    "    ts = timeit.default_timer()\n",
    "    c.perform()\n",
    "    \n",
    "    m = {}\n",
    "    m['prox_type'] = \"N/A\"\n",
    "    m['target'] = target\n",
    "    m['total-time'] = c.getinfo(pycurl.TOTAL_TIME)\n",
    "    m['namelookup-time'] = c.getinfo(pycurl.NAMELOOKUP_TIME)\n",
    "    m['connect-time'] = c.getinfo(pycurl.CONNECT_TIME)\n",
    "    m['pretransfer-time'] = c.getinfo(pycurl.PRETRANSFER_TIME)\n",
    "    m['starttransfer-time'] = c.getinfo(pycurl.STARTTRANSFER_TIME)\n",
    "    \n",
    "    return_list.append(m)\n",
    "    \n",
    "    c.close()\n",
    "    "
   ]
  },
  {
   "cell_type": "markdown",
   "metadata": {},
   "source": [
    "# Setup"
   ]
  },
  {
   "cell_type": "code",
   "execution_count": 4,
   "metadata": {},
   "outputs": [],
   "source": [
    "host = \"130.64.148.78\"\n",
    "port = \"8080\"\n",
    "range_k = 100\n",
    "\n",
    "\n",
    "\n",
    "# target = \"https://github.com/\"\n",
    "\n",
    "target = \"http://www.cs.cmu.edu/~prs/bio.html\"\n",
    "\n",
    "\n",
    "# target = \"http://www.cs.tufts.edu/comp/112/\""
   ]
  },
  {
   "cell_type": "markdown",
   "metadata": {},
   "source": [
    "# Without proxy"
   ]
  },
  {
   "cell_type": "markdown",
   "metadata": {},
   "source": [
    "## 1. One time"
   ]
  },
  {
   "cell_type": "code",
   "execution_count": 5,
   "metadata": {},
   "outputs": [
    {
     "name": "stdout",
     "output_type": "stream",
     "text": [
      "{'prox_type': 'N/A', 'target': 'http://www.cs.cmu.edu/~prs/bio.html', 'total-time': 0.341654, 'namelookup-time': 0.005058, 'connect-time': 0.022789, 'pretransfer-time': 0.022873, 'starttransfer-time': 0.306076}\n"
     ]
    }
   ],
   "source": [
    "return_list = []\n",
    "normal_latency(port,target,return_list)\n",
    "print(return_list[0])"
   ]
  },
  {
   "cell_type": "markdown",
   "metadata": {},
   "source": [
    "## 2. Average time (100 request)"
   ]
  },
  {
   "cell_type": "code",
   "execution_count": 6,
   "metadata": {},
   "outputs": [
    {
     "data": {
      "text/plain": [
       "0.12766182"
      ]
     },
     "execution_count": 6,
     "metadata": {},
     "output_type": "execute_result"
    }
   ],
   "source": [
    "total = 0\n",
    "return_list = []\n",
    "for n in range(range_k):\n",
    "    result = normal_latency(port,target,return_list)\n",
    "\n",
    "for result in return_list: \n",
    "    total+= result[\"total-time\"]\n",
    "    \n",
    "total/range_k"
   ]
  },
  {
   "cell_type": "markdown",
   "metadata": {},
   "source": [
    "# Our project - select + pthread"
   ]
  },
  {
   "cell_type": "code",
   "execution_count": 7,
   "metadata": {},
   "outputs": [],
   "source": [
    "prox_type = \"select\""
   ]
  },
  {
   "cell_type": "markdown",
   "metadata": {},
   "source": [
    "## 1. One time without cache"
   ]
  },
  {
   "cell_type": "code",
   "execution_count": 8,
   "metadata": {
    "scrolled": true
   },
   "outputs": [
    {
     "name": "stdout",
     "output_type": "stream",
     "text": [
      "{'prox_type': 'select', 'target': 'http://www.cs.cmu.edu/~prs/bio.html', 'total-time': 0.075657, 'namelookup-time': 5.9e-05, 'connect-time': 0.000188, 'pretransfer-time': 0.00025, 'starttransfer-time': 0.075588}\n"
     ]
    }
   ],
   "source": [
    "return_list = []\n",
    "proxy_latency(prox_type,host,port,target,return_list)\n",
    "print(return_list[0])"
   ]
  },
  {
   "cell_type": "markdown",
   "metadata": {},
   "source": [
    "## 2. Average time with cache (100 reqests)"
   ]
  },
  {
   "cell_type": "code",
   "execution_count": 9,
   "metadata": {},
   "outputs": [
    {
     "data": {
      "text/plain": [
       "0.00048904"
      ]
     },
     "execution_count": 9,
     "metadata": {},
     "output_type": "execute_result"
    }
   ],
   "source": [
    "total = 0\n",
    "return_list = []\n",
    "for n in range(range_k):\n",
    "    proxy_latency(prox_type,host,port,target,return_list)\n",
    "\n",
    "    \n",
    "for result in return_list: \n",
    "    total+= result[\"total-time\"]\n",
    "    \n",
    "total/range_k"
   ]
  },
  {
   "cell_type": "markdown",
   "metadata": {},
   "source": [
    "# Fully fork version - without cache"
   ]
  },
  {
   "cell_type": "code",
   "execution_count": 10,
   "metadata": {},
   "outputs": [],
   "source": [
    "# prox_type = \"fork\"\n"
   ]
  },
  {
   "cell_type": "code",
   "execution_count": 11,
   "metadata": {},
   "outputs": [],
   "source": [
    "# total = 0\n",
    "\n",
    "# for n in range(range_k):\n",
    "#    result = proxy_latency(prox_type,host,port,target)\n",
    "#    total+= result[\"total-time\"]\n",
    "    \n",
    "# total/range_k"
   ]
  },
  {
   "cell_type": "markdown",
   "metadata": {},
   "source": [
    "# Fully pthread version - without cache"
   ]
  },
  {
   "cell_type": "code",
   "execution_count": 12,
   "metadata": {},
   "outputs": [],
   "source": [
    "# prox_type = \"pthread\""
   ]
  },
  {
   "cell_type": "code",
   "execution_count": 13,
   "metadata": {
    "scrolled": false
   },
   "outputs": [],
   "source": [
    "# total = 0\n",
    "\n",
    "# for n in range(range_k):\n",
    "#    result = proxy_latency(prox_type,host,port,target)\n",
    "#    total+= result[\"total-time\"]\n",
    "    \n",
    "# total/range_k"
   ]
  },
  {
   "cell_type": "markdown",
   "metadata": {},
   "source": [
    "# Simulate multi users - multiprocesses"
   ]
  },
  {
   "cell_type": "markdown",
   "metadata": {},
   "source": [
    "## Without proxy - http, 50 request"
   ]
  },
  {
   "cell_type": "code",
   "execution_count": 14,
   "metadata": {},
   "outputs": [
    {
     "data": {
      "text/plain": [
       "0.4735701200000002"
      ]
     },
     "execution_count": 14,
     "metadata": {},
     "output_type": "execute_result"
    }
   ],
   "source": [
    "manager = Manager()\n",
    "return_list = manager.list()\n",
    "jobs = []\n",
    "total = 0\n",
    "\n",
    "for i in range(range_k):\n",
    "    p = Process(target=normal_latency,args=(port,target,return_list))\n",
    "    jobs.append(p)\n",
    "    p.start()\n",
    "\n",
    "for proc in jobs:\n",
    "    proc.join()\n",
    "\n",
    "for item in return_list:\n",
    "    total+=item[\"total-time\"]\n",
    "\n",
    "total/range_k    "
   ]
  },
  {
   "cell_type": "markdown",
   "metadata": {},
   "source": [
    "## Proxy - http with cache, 50 request"
   ]
  },
  {
   "cell_type": "code",
   "execution_count": 15,
   "metadata": {},
   "outputs": [
    {
     "data": {
      "text/plain": [
       "0.0007377399999999996"
      ]
     },
     "execution_count": 15,
     "metadata": {},
     "output_type": "execute_result"
    }
   ],
   "source": [
    "manager = Manager()\n",
    "return_list = manager.list()\n",
    "jobs = []\n",
    "total = 0\n",
    "\n",
    "for i in range(range_k):\n",
    "    p = Process(target=proxy_latency,args=(prox_type,host,port,target,return_list))\n",
    "    jobs.append(p)\n",
    "    p.start()\n",
    "\n",
    "for proc in jobs:\n",
    "    proc.join()\n",
    "\n",
    "for item in return_list:\n",
    "    total+=item[\"total-time\"]\n",
    "\n",
    "total/range_k  "
   ]
  },
  {
   "cell_type": "code",
   "execution_count": 16,
   "metadata": {},
   "outputs": [],
   "source": [
    "target = \"https://github.com/\"\n",
    "range_k = 200"
   ]
  },
  {
   "cell_type": "markdown",
   "metadata": {},
   "source": [
    "## Without proxy - https, 50 request"
   ]
  },
  {
   "cell_type": "code",
   "execution_count": 23,
   "metadata": {},
   "outputs": [
    {
     "data": {
      "text/plain": [
       "1.5326971750000007"
      ]
     },
     "execution_count": 23,
     "metadata": {},
     "output_type": "execute_result"
    }
   ],
   "source": [
    "manager = Manager()\n",
    "return_list = manager.list()\n",
    "jobs = []\n",
    "total = 0\n",
    "\n",
    "for i in range(range_k):\n",
    "    p = Process(target=normal_latency,args=(port,target,return_list))\n",
    "    jobs.append(p)\n",
    "    p.start()\n",
    "\n",
    "for proc in jobs:\n",
    "    proc.join()\n",
    "\n",
    "for item in return_list:\n",
    "    total+=item[\"total-time\"]\n",
    "\n",
    "total/range_k    "
   ]
  },
  {
   "cell_type": "markdown",
   "metadata": {},
   "source": [
    "## Proxy - https withoutcache, 50 request"
   ]
  },
  {
   "cell_type": "code",
   "execution_count": 24,
   "metadata": {},
   "outputs": [
    {
     "data": {
      "text/plain": [
       "1.1123836000000002"
      ]
     },
     "execution_count": 24,
     "metadata": {},
     "output_type": "execute_result"
    }
   ],
   "source": [
    "manager = Manager()\n",
    "return_list = manager.list()\n",
    "jobs = []\n",
    "total = 0\n",
    "\n",
    "for i in range(range_k):\n",
    "    p = Process(target=proxy_latency,args=(prox_type,host,port,target,return_list))\n",
    "    jobs.append(p)\n",
    "    p.start()\n",
    "\n",
    "for proc in jobs:\n",
    "    proc.join()\n",
    "\n",
    "for item in return_list:\n",
    "    total+=item[\"total-time\"]\n",
    "\n",
    "total/range_k "
   ]
  },
  {
   "cell_type": "code",
   "execution_count": null,
   "metadata": {},
   "outputs": [],
   "source": []
  },
  {
   "cell_type": "code",
   "execution_count": 19,
   "metadata": {},
   "outputs": [],
   "source": [
    "# 10: https noproxy: 0.21 select+pthread: 0.33 select: 0.48  fork: 0.24\n",
    "# 50: https noproxy: 0.42 select+pthread: 1.35 select: 2.11  fork: 0.39\n",
    "# 100: https noproxy: 0.78 select+pthread: 2.24 select: 3.32 fork: 0.74\n",
    "# 200: https noproxy: 1.26 select+pthread: 4.12 select: 7.11 fork: 1.11"
   ]
  },
  {
   "cell_type": "code",
   "execution_count": null,
   "metadata": {},
   "outputs": [],
   "source": [
    "# Single reqest\n",
    "# https noproxy: 0.17 select+pthread: 0.18 select: 0.21 fork: 0.21"
   ]
  }
 ],
 "metadata": {
  "kernelspec": {
   "display_name": "Python 3",
   "language": "python",
   "name": "python3"
  },
  "language_info": {
   "codemirror_mode": {
    "name": "ipython",
    "version": 3
   },
   "file_extension": ".py",
   "mimetype": "text/x-python",
   "name": "python",
   "nbconvert_exporter": "python",
   "pygments_lexer": "ipython3",
   "version": "3.8.5"
  }
 },
 "nbformat": 4,
 "nbformat_minor": 4
}
