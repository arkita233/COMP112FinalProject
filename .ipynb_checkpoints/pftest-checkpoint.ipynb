{
 "cells": [
  {
   "cell_type": "code",
   "execution_count": 6,
   "metadata": {},
   "outputs": [],
   "source": [
    "from io import BytesIO\n",
    "import pycurl,timeit\n",
    "from multiprocessing import Process\n",
    "from multiprocessing import Manager"
   ]
  },
  {
   "cell_type": "markdown",
   "metadata": {},
   "source": [
    "# Performance with proxy"
   ]
  },
  {
   "cell_type": "code",
   "execution_count": 7,
   "metadata": {},
   "outputs": [],
   "source": [
    "def proxy_latency(prox_type,host,port,target,return_list):\n",
    "    buffer = BytesIO()\n",
    "    c = pycurl.Curl()\n",
    "    c.setopt(pycurl.PROXY, f\"{host}:{port}\")\n",
    "    c.setopt(pycurl.URL, target)\n",
    "    c.setopt(c.WRITEDATA, buffer)\n",
    "    ts = timeit.default_timer()\n",
    "    c.perform()\n",
    "    \n",
    "    m = {}\n",
    "    m['prox_type'] = prox_type\n",
    "    m['target'] = target\n",
    "    m['total-time'] = c.getinfo(pycurl.TOTAL_TIME)\n",
    "    m['namelookup-time'] = c.getinfo(pycurl.NAMELOOKUP_TIME)\n",
    "    m['connect-time'] = c.getinfo(pycurl.CONNECT_TIME)\n",
    "    m['pretransfer-time'] = c.getinfo(pycurl.PRETRANSFER_TIME)\n",
    "    m['starttransfer-time'] = c.getinfo(pycurl.STARTTRANSFER_TIME)\n",
    "    \n",
    "    return_list.append(m)\n",
    "    \n",
    "    c.close()\n",
    "    \n",
    "    return m\n"
   ]
  },
  {
   "cell_type": "markdown",
   "metadata": {},
   "source": [
    "# Performance without proxy"
   ]
  },
  {
   "cell_type": "code",
   "execution_count": 8,
   "metadata": {},
   "outputs": [],
   "source": [
    "def normal_latency(port,target,return_list):\n",
    "    buffer = BytesIO()\n",
    "    c = pycurl.Curl()\n",
    "    c.setopt(pycurl.URL, target)\n",
    "    c.setopt(c.WRITEDATA, buffer)\n",
    "    ts = timeit.default_timer()\n",
    "    c.perform()\n",
    "    \n",
    "    m = {}\n",
    "    m['prox_type'] = \"N/A\"\n",
    "    m['target'] = target\n",
    "    m['total-time'] = c.getinfo(pycurl.TOTAL_TIME)\n",
    "    m['namelookup-time'] = c.getinfo(pycurl.NAMELOOKUP_TIME)\n",
    "    m['connect-time'] = c.getinfo(pycurl.CONNECT_TIME)\n",
    "    m['pretransfer-time'] = c.getinfo(pycurl.PRETRANSFER_TIME)\n",
    "    m['starttransfer-time'] = c.getinfo(pycurl.STARTTRANSFER_TIME)\n",
    "    \n",
    "    return_list.append(m)\n",
    "    \n",
    "    c.close()\n",
    "    "
   ]
  },
  {
   "cell_type": "markdown",
   "metadata": {},
   "source": [
    "# Setup"
   ]
  },
  {
   "cell_type": "code",
   "execution_count": 9,
   "metadata": {},
   "outputs": [],
   "source": [
    "host = \"130.64.148.78\"\n",
    "port = \"8080\"\n",
    "range_k = 100\n",
    "\n",
    "\n",
    "\n",
    "# target = \"https://www.reddit.com/\"\n",
    "\n",
    "target = \"http://www.cs.cmu.edu/~prs/bio.html\"\n",
    "\n",
    "\n",
    "# target = \"http://www.cs.tufts.edu/comp/112/\""
   ]
  },
  {
   "cell_type": "markdown",
   "metadata": {},
   "source": [
    "# Without proxy"
   ]
  },
  {
   "cell_type": "markdown",
   "metadata": {},
   "source": [
    "## 1. One time"
   ]
  },
  {
   "cell_type": "code",
   "execution_count": 12,
   "metadata": {},
   "outputs": [
    {
     "name": "stdout",
     "output_type": "stream",
     "text": [
      "{'prox_type': 'N/A', 'target': 'http://www.cs.cmu.edu/~prs/bio.html', 'total-time': 0.061455, 'namelookup-time': 0.004058, 'connect-time': 0.021591, 'pretransfer-time': 0.021655, 'starttransfer-time': 0.043422}\n"
     ]
    }
   ],
   "source": [
    "return_list = []\n",
    "normal_latency(port,target,return_list)\n",
    "print(return_list[0])"
   ]
  },
  {
   "cell_type": "markdown",
   "metadata": {},
   "source": [
    "## 2. Average time (100 request)"
   ]
  },
  {
   "cell_type": "code",
   "execution_count": 13,
   "metadata": {},
   "outputs": [
    {
     "data": {
      "text/plain": [
       "0.08956537999999997"
      ]
     },
     "execution_count": 13,
     "metadata": {},
     "output_type": "execute_result"
    }
   ],
   "source": [
    "total = 0\n",
    "return_list = []\n",
    "for n in range(range_k):\n",
    "    result = normal_latency(port,target,return_list)\n",
    "\n",
    "for result in return_list: \n",
    "    total+= result[\"total-time\"]\n",
    "    \n",
    "total/range_k"
   ]
  },
  {
   "cell_type": "markdown",
   "metadata": {},
   "source": [
    "# Our project - select + pthread"
   ]
  },
  {
   "cell_type": "code",
   "execution_count": 20,
   "metadata": {},
   "outputs": [],
   "source": [
    "prox_type = \"select\""
   ]
  },
  {
   "cell_type": "markdown",
   "metadata": {},
   "source": [
    "## 1. One time without cache"
   ]
  },
  {
   "cell_type": "code",
   "execution_count": 21,
   "metadata": {
    "scrolled": true
   },
   "outputs": [
    {
     "data": {
      "text/plain": [
       "{'prox_type': 'select',\n",
       " 'target': 'http://www.cs.cmu.edu/~prs/bio.html',\n",
       " 'total-time': 0.095448,\n",
       " 'namelookup-time': 2.2e-05,\n",
       " 'connect-time': 8.9e-05,\n",
       " 'pretransfer-time': 0.00011,\n",
       " 'starttransfer-time': 0.095363}"
      ]
     },
     "execution_count": 21,
     "metadata": {},
     "output_type": "execute_result"
    }
   ],
   "source": [
    "proxy_latency(prox_type,host,port,target)"
   ]
  },
  {
   "cell_type": "markdown",
   "metadata": {},
   "source": [
    "## 2. Average time with cache (100 reqests)"
   ]
  },
  {
   "cell_type": "code",
   "execution_count": 22,
   "metadata": {},
   "outputs": [
    {
     "data": {
      "text/plain": [
       "0.0008314999999999998"
      ]
     },
     "execution_count": 22,
     "metadata": {},
     "output_type": "execute_result"
    }
   ],
   "source": [
    "total = 0\n",
    "\n",
    "for n in range(range_k):\n",
    "    result = proxy_latency(prox_type,host,port,target)\n",
    "    total+= result[\"total-time\"]\n",
    "    \n",
    "total/range_k"
   ]
  },
  {
   "cell_type": "markdown",
   "metadata": {},
   "source": [
    "# Fully fork version - without cache"
   ]
  },
  {
   "cell_type": "code",
   "execution_count": 132,
   "metadata": {},
   "outputs": [],
   "source": [
    "prox_type = \"fork\"\n"
   ]
  },
  {
   "cell_type": "code",
   "execution_count": 133,
   "metadata": {},
   "outputs": [
    {
     "data": {
      "text/plain": [
       "0.07034185000000004"
      ]
     },
     "execution_count": 133,
     "metadata": {},
     "output_type": "execute_result"
    }
   ],
   "source": [
    "total = 0\n",
    "\n",
    "for n in range(range_k):\n",
    "    result = proxy_latency(prox_type,host,port,target)\n",
    "    total+= result[\"total-time\"]\n",
    "    \n",
    "total/range_k"
   ]
  },
  {
   "cell_type": "markdown",
   "metadata": {},
   "source": [
    "# Fully pthread version - without cache"
   ]
  },
  {
   "cell_type": "code",
   "execution_count": 134,
   "metadata": {},
   "outputs": [],
   "source": [
    "prox_type = \"pthread\""
   ]
  },
  {
   "cell_type": "code",
   "execution_count": 135,
   "metadata": {
    "scrolled": false
   },
   "outputs": [
    {
     "data": {
      "text/plain": [
       "0.11215383000000007"
      ]
     },
     "execution_count": 135,
     "metadata": {},
     "output_type": "execute_result"
    }
   ],
   "source": [
    "total = 0\n",
    "\n",
    "for n in range(range_k):\n",
    "    result = proxy_latency(prox_type,host,port,target)\n",
    "    total+= result[\"total-time\"]\n",
    "    \n",
    "total/range_k"
   ]
  },
  {
   "cell_type": "markdown",
   "metadata": {},
   "source": [
    "# Simulate multi users"
   ]
  },
  {
   "cell_type": "code",
   "execution_count": null,
   "metadata": {},
   "outputs": [],
   "source": [
    "manager = Manager()\n",
    "return_dic = manager.dic()\n",
    "jobs = []\n",
    "\n",
    "for i in range(5):\n",
    "    p = Process(target=normal_latency,args=(host,port,target))\n",
    "    jobs.append(p)\n",
    "    p.start()\n",
    "\n",
    "for proc in jobs:\n",
    "    proc.join()\n",
    "\n",
    "    "
   ]
  }
 ],
 "metadata": {
  "kernelspec": {
   "display_name": "Python 3",
   "language": "python",
   "name": "python3"
  },
  "language_info": {
   "codemirror_mode": {
    "name": "ipython",
    "version": 3
   },
   "file_extension": ".py",
   "mimetype": "text/x-python",
   "name": "python",
   "nbconvert_exporter": "python",
   "pygments_lexer": "ipython3",
   "version": "3.8.5"
  }
 },
 "nbformat": 4,
 "nbformat_minor": 4
}
